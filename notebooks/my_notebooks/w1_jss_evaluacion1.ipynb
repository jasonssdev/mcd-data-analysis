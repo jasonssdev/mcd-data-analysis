{
 "cells": [
  {
   "cell_type": "code",
   "execution_count": 2,
   "id": "52dad506",
   "metadata": {},
   "outputs": [
    {
     "name": "stdout",
     "output_type": "stream",
     "text": [
      "/Users/jasonssdev/Dev/Learning/UC/mcd-data-analysis\n"
     ]
    }
   ],
   "source": [
    "!pwd"
   ]
  },
  {
   "cell_type": "code",
   "execution_count": 3,
   "id": "e0ed781d",
   "metadata": {},
   "outputs": [],
   "source": [
    "from utils.paths import PROJECT_ROOT, DATA_RAW_DIR"
   ]
  },
  {
   "cell_type": "code",
   "execution_count": 4,
   "id": "981eeca8",
   "metadata": {},
   "outputs": [
    {
     "name": "stdout",
     "output_type": "stream",
     "text": [
      "Data path: /Users/jasonssdev/Dev/Learning/UC/mcd-data-analysis/data/raw/datos.xls\n"
     ]
    }
   ],
   "source": [
    "data_path = str(DATA_RAW_DIR / \"datos.xls\")\n",
    "print(f\"Data path: {data_path}\")"
   ]
  },
  {
   "cell_type": "code",
   "execution_count": 5,
   "id": "bb979c56",
   "metadata": {},
   "outputs": [],
   "source": [
    "import pandas as pd"
   ]
  },
  {
   "cell_type": "markdown",
   "id": "b17dc33c",
   "metadata": {},
   "source": [
    "### Import all dataframes"
   ]
  },
  {
   "cell_type": "code",
   "execution_count": 7,
   "id": "248fc2b2",
   "metadata": {},
   "outputs": [],
   "source": [
    "df_grd = pd.read_excel(io=data_path,\n",
    "                    sheet_name=\"GRD\",\n",
    "                    header=0,\n",
    "                    index_col=None)\n",
    "\n",
    "df_hospitales = pd.read_excel(io=data_path,\n",
    "                            sheet_name=\"Hospitales\",\n",
    "                            header=0,\n",
    "                            index_col=None)\n",
    "\n",
    "df_informacion_historica = pd.read_excel(io=data_path,\n",
    "                                        sheet_name=\"Información Histórica\",\n",
    "                                        header=0,\n",
    "                                        index_col=None)\n",
    "\n",
    "df_clase_1 = pd.read_excel(io=data_path,\n",
    "                        sheet_name=\"Clase 1\",\n",
    "                        header=0,\n",
    "                        index_col=None)\n"
   ]
  },
  {
   "cell_type": "markdown",
   "id": "1ffefe0e",
   "metadata": {},
   "source": [
    "1. ¿Cuál de las siguientes opciones corresponde al código que permite calcular el total de camas críticas para cada uno de los servicios de salud? "
   ]
  },
  {
   "cell_type": "code",
   "execution_count": 8,
   "id": "41f7c9d6",
   "metadata": {},
   "outputs": [
    {
     "data": {
      "application/vnd.microsoft.datawrangler.viewer.v0+json": {
       "columns": [
        {
         "name": "Nombre Servicio de Salud",
         "rawType": "object",
         "type": "string"
        },
        {
         "name": "Total Camas Críticas",
         "rawType": "int64",
         "type": "integer"
        }
       ],
       "ref": "42be620e-5758-4eaa-b44d-b757fe789a72",
       "rows": [
        [
         "Metropolitano Central                             ",
         "105"
        ],
        [
         "Metropolitano Norte                               ",
         "44"
        ],
        [
         "Metropolitano Occidente                           ",
         "120"
        ],
        [
         "Metropolitano Oriente                             ",
         "137"
        ],
        [
         "Metropolitano Sur                                 ",
         "173"
        ],
        [
         "Metropolitano Sur Oriente                         ",
         "127"
        ]
       ],
       "shape": {
        "columns": 1,
        "rows": 6
       }
      },
      "text/html": [
       "<div>\n",
       "<style scoped>\n",
       "    .dataframe tbody tr th:only-of-type {\n",
       "        vertical-align: middle;\n",
       "    }\n",
       "\n",
       "    .dataframe tbody tr th {\n",
       "        vertical-align: top;\n",
       "    }\n",
       "\n",
       "    .dataframe thead th {\n",
       "        text-align: right;\n",
       "    }\n",
       "</style>\n",
       "<table border=\"1\" class=\"dataframe\">\n",
       "  <thead>\n",
       "    <tr style=\"text-align: right;\">\n",
       "      <th></th>\n",
       "      <th>Total Camas Críticas</th>\n",
       "    </tr>\n",
       "    <tr>\n",
       "      <th>Nombre Servicio de Salud</th>\n",
       "      <th></th>\n",
       "    </tr>\n",
       "  </thead>\n",
       "  <tbody>\n",
       "    <tr>\n",
       "      <th>Metropolitano Central</th>\n",
       "      <td>105</td>\n",
       "    </tr>\n",
       "    <tr>\n",
       "      <th>Metropolitano Norte</th>\n",
       "      <td>44</td>\n",
       "    </tr>\n",
       "    <tr>\n",
       "      <th>Metropolitano Occidente</th>\n",
       "      <td>120</td>\n",
       "    </tr>\n",
       "    <tr>\n",
       "      <th>Metropolitano Oriente</th>\n",
       "      <td>137</td>\n",
       "    </tr>\n",
       "    <tr>\n",
       "      <th>Metropolitano Sur</th>\n",
       "      <td>173</td>\n",
       "    </tr>\n",
       "    <tr>\n",
       "      <th>Metropolitano Sur Oriente</th>\n",
       "      <td>127</td>\n",
       "    </tr>\n",
       "  </tbody>\n",
       "</table>\n",
       "</div>"
      ],
      "text/plain": [
       "                                                    Total Camas Críticas\n",
       "Nombre Servicio de Salud                                                \n",
       "Metropolitano Central                                                105\n",
       "Metropolitano Norte                                                   44\n",
       "Metropolitano Occidente                                              120\n",
       "Metropolitano Oriente                                                137\n",
       "Metropolitano Sur                                                    173\n",
       "Metropolitano Sur Oriente                                            127"
      ]
     },
     "execution_count": 8,
     "metadata": {},
     "output_type": "execute_result"
    }
   ],
   "source": [
    "df_hospitales[[\"Nombre Servicio de Salud\", \"Total Camas Críticas\"]].groupby(\"Nombre Servicio de Salud\").sum()\n"
   ]
  },
  {
   "cell_type": "markdown",
   "id": "55d44d20",
   "metadata": {},
   "source": [
    "2. ¿Cuáles de los siguientes servicios de salud son los tres servicios que tienen más camas críticas?  \n",
    "\n"
   ]
  },
  {
   "cell_type": "code",
   "execution_count": 9,
   "id": "2cdca51d",
   "metadata": {},
   "outputs": [
    {
     "data": {
      "application/vnd.microsoft.datawrangler.viewer.v0+json": {
       "columns": [
        {
         "name": "Nombre Servicio de Salud",
         "rawType": "object",
         "type": "string"
        },
        {
         "name": "Total Camas Críticas",
         "rawType": "int64",
         "type": "integer"
        }
       ],
       "ref": "94938435-b3fa-40d7-b6fb-450eca58bbc0",
       "rows": [
        [
         "Metropolitano Sur                                 ",
         "173"
        ],
        [
         "Metropolitano Oriente                             ",
         "137"
        ],
        [
         "Metropolitano Sur Oriente                         ",
         "127"
        ],
        [
         "Metropolitano Occidente                           ",
         "120"
        ],
        [
         "Metropolitano Central                             ",
         "105"
        ],
        [
         "Metropolitano Norte                               ",
         "44"
        ]
       ],
       "shape": {
        "columns": 1,
        "rows": 6
       }
      },
      "text/html": [
       "<div>\n",
       "<style scoped>\n",
       "    .dataframe tbody tr th:only-of-type {\n",
       "        vertical-align: middle;\n",
       "    }\n",
       "\n",
       "    .dataframe tbody tr th {\n",
       "        vertical-align: top;\n",
       "    }\n",
       "\n",
       "    .dataframe thead th {\n",
       "        text-align: right;\n",
       "    }\n",
       "</style>\n",
       "<table border=\"1\" class=\"dataframe\">\n",
       "  <thead>\n",
       "    <tr style=\"text-align: right;\">\n",
       "      <th></th>\n",
       "      <th>Total Camas Críticas</th>\n",
       "    </tr>\n",
       "    <tr>\n",
       "      <th>Nombre Servicio de Salud</th>\n",
       "      <th></th>\n",
       "    </tr>\n",
       "  </thead>\n",
       "  <tbody>\n",
       "    <tr>\n",
       "      <th>Metropolitano Sur</th>\n",
       "      <td>173</td>\n",
       "    </tr>\n",
       "    <tr>\n",
       "      <th>Metropolitano Oriente</th>\n",
       "      <td>137</td>\n",
       "    </tr>\n",
       "    <tr>\n",
       "      <th>Metropolitano Sur Oriente</th>\n",
       "      <td>127</td>\n",
       "    </tr>\n",
       "    <tr>\n",
       "      <th>Metropolitano Occidente</th>\n",
       "      <td>120</td>\n",
       "    </tr>\n",
       "    <tr>\n",
       "      <th>Metropolitano Central</th>\n",
       "      <td>105</td>\n",
       "    </tr>\n",
       "    <tr>\n",
       "      <th>Metropolitano Norte</th>\n",
       "      <td>44</td>\n",
       "    </tr>\n",
       "  </tbody>\n",
       "</table>\n",
       "</div>"
      ],
      "text/plain": [
       "                                                    Total Camas Críticas\n",
       "Nombre Servicio de Salud                                                \n",
       "Metropolitano Sur                                                    173\n",
       "Metropolitano Oriente                                                137\n",
       "Metropolitano Sur Oriente                                            127\n",
       "Metropolitano Occidente                                              120\n",
       "Metropolitano Central                                                105\n",
       "Metropolitano Norte                                                   44"
      ]
     },
     "execution_count": 9,
     "metadata": {},
     "output_type": "execute_result"
    }
   ],
   "source": [
    "df_hospitales[[\"Nombre Servicio de Salud\", \"Total Camas Críticas\"]].groupby(\"Nombre Servicio de Salud\").sum().sort_values(by=\"Total Camas Críticas\", ascending=False)\n",
    "\n",
    "\n"
   ]
  },
  {
   "cell_type": "code",
   "execution_count": 10,
   "id": "b1774e86",
   "metadata": {},
   "outputs": [
    {
     "data": {
      "application/vnd.microsoft.datawrangler.viewer.v0+json": {
       "columns": [
        {
         "name": "Nombre Servicio de Salud",
         "rawType": "object",
         "type": "string"
        },
        {
         "name": "Total Camas Críticas",
         "rawType": "int64",
         "type": "integer"
        }
       ],
       "ref": "68c100a0-e428-470d-bb1b-7a193c48d160",
       "rows": [
        [
         "Metropolitano Sur                                 ",
         "173"
        ],
        [
         "Metropolitano Oriente                             ",
         "137"
        ],
        [
         "Metropolitano Sur Oriente                         ",
         "127"
        ]
       ],
       "shape": {
        "columns": 1,
        "rows": 3
       }
      },
      "text/html": [
       "<div>\n",
       "<style scoped>\n",
       "    .dataframe tbody tr th:only-of-type {\n",
       "        vertical-align: middle;\n",
       "    }\n",
       "\n",
       "    .dataframe tbody tr th {\n",
       "        vertical-align: top;\n",
       "    }\n",
       "\n",
       "    .dataframe thead th {\n",
       "        text-align: right;\n",
       "    }\n",
       "</style>\n",
       "<table border=\"1\" class=\"dataframe\">\n",
       "  <thead>\n",
       "    <tr style=\"text-align: right;\">\n",
       "      <th></th>\n",
       "      <th>Total Camas Críticas</th>\n",
       "    </tr>\n",
       "    <tr>\n",
       "      <th>Nombre Servicio de Salud</th>\n",
       "      <th></th>\n",
       "    </tr>\n",
       "  </thead>\n",
       "  <tbody>\n",
       "    <tr>\n",
       "      <th>Metropolitano Sur</th>\n",
       "      <td>173</td>\n",
       "    </tr>\n",
       "    <tr>\n",
       "      <th>Metropolitano Oriente</th>\n",
       "      <td>137</td>\n",
       "    </tr>\n",
       "    <tr>\n",
       "      <th>Metropolitano Sur Oriente</th>\n",
       "      <td>127</td>\n",
       "    </tr>\n",
       "  </tbody>\n",
       "</table>\n",
       "</div>"
      ],
      "text/plain": [
       "                                                    Total Camas Críticas\n",
       "Nombre Servicio de Salud                                                \n",
       "Metropolitano Sur                                                    173\n",
       "Metropolitano Oriente                                                137\n",
       "Metropolitano Sur Oriente                                            127"
      ]
     },
     "execution_count": 10,
     "metadata": {},
     "output_type": "execute_result"
    }
   ],
   "source": [
    "df_hospitales[[\"Nombre Servicio de Salud\", \"Total Camas Críticas\"]].groupby(\"Nombre Servicio de Salud\").sum().nlargest(3, \"Total Camas Críticas\")"
   ]
  },
  {
   "cell_type": "markdown",
   "id": "e3d8e57a",
   "metadata": {},
   "source": [
    "3. ¿Cuál de los siguientes códigos permite calcular el costo promedio diario de atención para el GRD4?"
   ]
  },
  {
   "cell_type": "code",
   "execution_count": 11,
   "id": "7045274d",
   "metadata": {},
   "outputs": [
    {
     "data": {
      "text/plain": [
       "np.float64(0.4484761904761904)"
      ]
     },
     "execution_count": 11,
     "metadata": {},
     "output_type": "execute_result"
    }
   ],
   "source": [
    "df_hospitales[\"Costo diario GRD4 [MM$]\"].mean()\n"
   ]
  },
  {
   "cell_type": "markdown",
   "id": "6459ca3f",
   "metadata": {},
   "source": [
    "4. ¿Cuál de las siguientes alternativas corresponde al promedio diario (redondeado con 0 decimales) de pacientes que han llegado a la red durante los últimos 10 días (desde el día 415 al día 424)?"
   ]
  },
  {
   "cell_type": "code",
   "execution_count": 12,
   "id": "312a42e1",
   "metadata": {},
   "outputs": [
    {
     "data": {
      "application/vnd.microsoft.datawrangler.viewer.v0+json": {
       "columns": [
        {
         "name": "index",
         "rawType": "int64",
         "type": "integer"
        },
        {
         "name": "Número de llegada",
         "rawType": "int64",
         "type": "integer"
        },
        {
         "name": "Hospital al que llega",
         "rawType": "object",
         "type": "string"
        },
        {
         "name": "GRD",
         "rawType": "object",
         "type": "string"
        },
        {
         "name": "Día de llegada",
         "rawType": "int64",
         "type": "integer"
        },
        {
         "name": "Día de salida",
         "rawType": "int64",
         "type": "integer"
        },
        {
         "name": "Estadia",
         "rawType": "int64",
         "type": "integer"
        }
       ],
       "ref": "b59423ac-b4bb-448c-aeac-c763af940820",
       "rows": [
        [
         "0",
         "1",
         "Instituto Traumatológico Dr. Teodoro Gebauer",
         "GRD3",
         "1",
         "4",
         "3"
        ],
        [
         "1",
         "2",
         "Hospital Clínico San Borja-Arriarán",
         "GRD7",
         "1",
         "5",
         "4"
        ],
        [
         "2",
         "3",
         "Hospital Dr. Luis Tisné B.",
         "GRD7",
         "1",
         "5",
         "4"
        ],
        [
         "3",
         "4",
         "Hospital Dr. Exequiel González Cortés",
         "GRD10",
         "1",
         "11",
         "10"
        ],
        [
         "4",
         "5",
         "Hospital Barros Luco Trudeau",
         "GRD6",
         "1",
         "6",
         "5"
        ]
       ],
       "shape": {
        "columns": 6,
        "rows": 5
       }
      },
      "text/html": [
       "<div>\n",
       "<style scoped>\n",
       "    .dataframe tbody tr th:only-of-type {\n",
       "        vertical-align: middle;\n",
       "    }\n",
       "\n",
       "    .dataframe tbody tr th {\n",
       "        vertical-align: top;\n",
       "    }\n",
       "\n",
       "    .dataframe thead th {\n",
       "        text-align: right;\n",
       "    }\n",
       "</style>\n",
       "<table border=\"1\" class=\"dataframe\">\n",
       "  <thead>\n",
       "    <tr style=\"text-align: right;\">\n",
       "      <th></th>\n",
       "      <th>Número de llegada</th>\n",
       "      <th>Hospital al que llega</th>\n",
       "      <th>GRD</th>\n",
       "      <th>Día de llegada</th>\n",
       "      <th>Día de salida</th>\n",
       "      <th>Estadia</th>\n",
       "    </tr>\n",
       "  </thead>\n",
       "  <tbody>\n",
       "    <tr>\n",
       "      <th>0</th>\n",
       "      <td>1</td>\n",
       "      <td>Instituto Traumatológico Dr. Teodoro Gebauer</td>\n",
       "      <td>GRD3</td>\n",
       "      <td>1</td>\n",
       "      <td>4</td>\n",
       "      <td>3</td>\n",
       "    </tr>\n",
       "    <tr>\n",
       "      <th>1</th>\n",
       "      <td>2</td>\n",
       "      <td>Hospital Clínico San Borja-Arriarán</td>\n",
       "      <td>GRD7</td>\n",
       "      <td>1</td>\n",
       "      <td>5</td>\n",
       "      <td>4</td>\n",
       "    </tr>\n",
       "    <tr>\n",
       "      <th>2</th>\n",
       "      <td>3</td>\n",
       "      <td>Hospital Dr. Luis Tisné B.</td>\n",
       "      <td>GRD7</td>\n",
       "      <td>1</td>\n",
       "      <td>5</td>\n",
       "      <td>4</td>\n",
       "    </tr>\n",
       "    <tr>\n",
       "      <th>3</th>\n",
       "      <td>4</td>\n",
       "      <td>Hospital Dr. Exequiel González Cortés</td>\n",
       "      <td>GRD10</td>\n",
       "      <td>1</td>\n",
       "      <td>11</td>\n",
       "      <td>10</td>\n",
       "    </tr>\n",
       "    <tr>\n",
       "      <th>4</th>\n",
       "      <td>5</td>\n",
       "      <td>Hospital Barros Luco Trudeau</td>\n",
       "      <td>GRD6</td>\n",
       "      <td>1</td>\n",
       "      <td>6</td>\n",
       "      <td>5</td>\n",
       "    </tr>\n",
       "  </tbody>\n",
       "</table>\n",
       "</div>"
      ],
      "text/plain": [
       "   Número de llegada                         Hospital al que llega    GRD  \\\n",
       "0                  1  Instituto Traumatológico Dr. Teodoro Gebauer   GRD3   \n",
       "1                  2           Hospital Clínico San Borja-Arriarán   GRD7   \n",
       "2                  3                    Hospital Dr. Luis Tisné B.   GRD7   \n",
       "3                  4         Hospital Dr. Exequiel González Cortés  GRD10   \n",
       "4                  5                  Hospital Barros Luco Trudeau   GRD6   \n",
       "\n",
       "   Día de llegada  Día de salida  Estadia  \n",
       "0               1              4        3  \n",
       "1               1              5        4  \n",
       "2               1              5        4  \n",
       "3               1             11       10  \n",
       "4               1              6        5  "
      ]
     },
     "execution_count": 12,
     "metadata": {},
     "output_type": "execute_result"
    }
   ],
   "source": [
    "df_informacion_historica.head()"
   ]
  },
  {
   "cell_type": "code",
   "execution_count": 13,
   "id": "02f2bbe7",
   "metadata": {},
   "outputs": [],
   "source": [
    "data = df_informacion_historica[(df_informacion_historica[\"Día de llegada\"] >= 415) & (df_informacion_historica[\"Día de llegada\"] <= 424)]"
   ]
  },
  {
   "cell_type": "code",
   "execution_count": 16,
   "id": "be6a00e7",
   "metadata": {},
   "outputs": [
    {
     "data": {
      "text/plain": [
       "np.float64(154.0)"
      ]
     },
     "execution_count": 16,
     "metadata": {},
     "output_type": "execute_result"
    }
   ],
   "source": [
    "promedio_ultimos_10_dias = round(\n",
    "    data[[\"Día de llegada\", \"GRD\"]].groupby(\"Día de llegada\").size().mean(), 0)\n",
    "promedio_ultimos_10_dias"
   ]
  },
  {
   "cell_type": "markdown",
   "id": "ef439ff2",
   "metadata": {},
   "source": [
    "5. ¿Cuál de las siguientes alternativas indica el promedio del costo diario de resolución de los 3 GRDs más costosos en clínica privada?  "
   ]
  },
  {
   "cell_type": "code",
   "execution_count": 17,
   "id": "ec299802",
   "metadata": {},
   "outputs": [
    {
     "data": {
      "text/plain": [
       "np.float64(7.538333333333334)"
      ]
     },
     "execution_count": 17,
     "metadata": {},
     "output_type": "execute_result"
    }
   ],
   "source": [
    "df_largest =  df_grd.nlargest(3, \"Costo resolución en Clínica Privada [MM$]\")\n",
    "df_largest[\"Costo resolución en Clínica Privada [MM$]\"].mean()\n"
   ]
  },
  {
   "cell_type": "markdown",
   "id": "16225a87",
   "metadata": {},
   "source": [
    "6. ¿Cuál de los siguientes códigos permite calcular la cantidad de días de estadía promedio, por GRD, para los pacientes ingresados durante los últimos 10 días registrados en el archivo (y entonces, desde el día 415 al día 424)?"
   ]
  },
  {
   "cell_type": "code",
   "execution_count": 30,
   "id": "a6450662",
   "metadata": {},
   "outputs": [
    {
     "data": {
      "application/vnd.microsoft.datawrangler.viewer.v0+json": {
       "columns": [
        {
         "name": "index",
         "rawType": "int64",
         "type": "integer"
        },
        {
         "name": "GRD",
         "rawType": "object",
         "type": "string"
        },
        {
         "name": "Número de llegada",
         "rawType": "float64",
         "type": "float"
        },
        {
         "name": "Día de llegada",
         "rawType": "float64",
         "type": "float"
        },
        {
         "name": "Día de salida",
         "rawType": "float64",
         "type": "float"
        },
        {
         "name": "Estadia",
         "rawType": "float64",
         "type": "float"
        }
       ],
       "ref": "d6090a5d-e67c-4d62-b6d2-c97db2135a16",
       "rows": [
        [
         "0",
         "GRD1",
         "64856.17880794702",
         "419.87417218543044",
         "429.87417218543044",
         "10.0"
        ],
        [
         "1",
         "GRD10",
         "64812.29090909091",
         "419.55757575757576",
         "429.55757575757576",
         "10.0"
        ],
        [
         "2",
         "GRD2",
         "64710.42580645161",
         "419.0064516129032",
         "423.0064516129032",
         "4.0"
        ],
        [
         "3",
         "GRD3",
         "64709.13173652695",
         "418.94610778443115",
         "421.94610778443115",
         "3.0"
        ],
        [
         "4",
         "GRD4",
         "64775.47101449275",
         "419.3623188405797",
         "425.3623188405797",
         "6.0"
        ],
        [
         "5",
         "GRD5",
         "64819.895104895106",
         "419.6713286713287",
         "423.6713286713287",
         "4.0"
        ],
        [
         "6",
         "GRD6",
         "64737.105590062114",
         "419.1366459627329",
         "424.1366459627329",
         "5.0"
        ],
        [
         "7",
         "GRD7",
         "64746.62857142857",
         "419.19428571428574",
         "423.19428571428574",
         "4.0"
        ],
        [
         "8",
         "GRD8",
         "64735.51677852349",
         "419.1476510067114",
         "423.1476510067114",
         "4.0"
        ],
        [
         "9",
         "GRD9",
         "64725.1914893617",
         "419.0921985815603",
         "424.0921985815603",
         "5.0"
        ]
       ],
       "shape": {
        "columns": 5,
        "rows": 10
       }
      },
      "text/html": [
       "<div>\n",
       "<style scoped>\n",
       "    .dataframe tbody tr th:only-of-type {\n",
       "        vertical-align: middle;\n",
       "    }\n",
       "\n",
       "    .dataframe tbody tr th {\n",
       "        vertical-align: top;\n",
       "    }\n",
       "\n",
       "    .dataframe thead th {\n",
       "        text-align: right;\n",
       "    }\n",
       "</style>\n",
       "<table border=\"1\" class=\"dataframe\">\n",
       "  <thead>\n",
       "    <tr style=\"text-align: right;\">\n",
       "      <th></th>\n",
       "      <th>GRD</th>\n",
       "      <th>Número de llegada</th>\n",
       "      <th>Día de llegada</th>\n",
       "      <th>Día de salida</th>\n",
       "      <th>Estadia</th>\n",
       "    </tr>\n",
       "  </thead>\n",
       "  <tbody>\n",
       "    <tr>\n",
       "      <th>0</th>\n",
       "      <td>GRD1</td>\n",
       "      <td>64856.178808</td>\n",
       "      <td>419.874172</td>\n",
       "      <td>429.874172</td>\n",
       "      <td>10.0</td>\n",
       "    </tr>\n",
       "    <tr>\n",
       "      <th>1</th>\n",
       "      <td>GRD10</td>\n",
       "      <td>64812.290909</td>\n",
       "      <td>419.557576</td>\n",
       "      <td>429.557576</td>\n",
       "      <td>10.0</td>\n",
       "    </tr>\n",
       "    <tr>\n",
       "      <th>2</th>\n",
       "      <td>GRD2</td>\n",
       "      <td>64710.425806</td>\n",
       "      <td>419.006452</td>\n",
       "      <td>423.006452</td>\n",
       "      <td>4.0</td>\n",
       "    </tr>\n",
       "    <tr>\n",
       "      <th>3</th>\n",
       "      <td>GRD3</td>\n",
       "      <td>64709.131737</td>\n",
       "      <td>418.946108</td>\n",
       "      <td>421.946108</td>\n",
       "      <td>3.0</td>\n",
       "    </tr>\n",
       "    <tr>\n",
       "      <th>4</th>\n",
       "      <td>GRD4</td>\n",
       "      <td>64775.471014</td>\n",
       "      <td>419.362319</td>\n",
       "      <td>425.362319</td>\n",
       "      <td>6.0</td>\n",
       "    </tr>\n",
       "    <tr>\n",
       "      <th>5</th>\n",
       "      <td>GRD5</td>\n",
       "      <td>64819.895105</td>\n",
       "      <td>419.671329</td>\n",
       "      <td>423.671329</td>\n",
       "      <td>4.0</td>\n",
       "    </tr>\n",
       "    <tr>\n",
       "      <th>6</th>\n",
       "      <td>GRD6</td>\n",
       "      <td>64737.105590</td>\n",
       "      <td>419.136646</td>\n",
       "      <td>424.136646</td>\n",
       "      <td>5.0</td>\n",
       "    </tr>\n",
       "    <tr>\n",
       "      <th>7</th>\n",
       "      <td>GRD7</td>\n",
       "      <td>64746.628571</td>\n",
       "      <td>419.194286</td>\n",
       "      <td>423.194286</td>\n",
       "      <td>4.0</td>\n",
       "    </tr>\n",
       "    <tr>\n",
       "      <th>8</th>\n",
       "      <td>GRD8</td>\n",
       "      <td>64735.516779</td>\n",
       "      <td>419.147651</td>\n",
       "      <td>423.147651</td>\n",
       "      <td>4.0</td>\n",
       "    </tr>\n",
       "    <tr>\n",
       "      <th>9</th>\n",
       "      <td>GRD9</td>\n",
       "      <td>64725.191489</td>\n",
       "      <td>419.092199</td>\n",
       "      <td>424.092199</td>\n",
       "      <td>5.0</td>\n",
       "    </tr>\n",
       "  </tbody>\n",
       "</table>\n",
       "</div>"
      ],
      "text/plain": [
       "     GRD  Número de llegada  Día de llegada  Día de salida  Estadia\n",
       "0   GRD1       64856.178808      419.874172     429.874172     10.0\n",
       "1  GRD10       64812.290909      419.557576     429.557576     10.0\n",
       "2   GRD2       64710.425806      419.006452     423.006452      4.0\n",
       "3   GRD3       64709.131737      418.946108     421.946108      3.0\n",
       "4   GRD4       64775.471014      419.362319     425.362319      6.0\n",
       "5   GRD5       64819.895105      419.671329     423.671329      4.0\n",
       "6   GRD6       64737.105590      419.136646     424.136646      5.0\n",
       "7   GRD7       64746.628571      419.194286     423.194286      4.0\n",
       "8   GRD8       64735.516779      419.147651     423.147651      4.0\n",
       "9   GRD9       64725.191489      419.092199     424.092199      5.0"
      ]
     },
     "execution_count": 30,
     "metadata": {},
     "output_type": "execute_result"
    }
   ],
   "source": [
    "estadia_promedio = df_informacion_historica[(df_informacion_historica[\"Día de llegada\"] >= 415)].groupby(\"GRD\").mean(numeric_only=True).reset_index()\n",
    "\n",
    "estadia_promedio"
   ]
  },
  {
   "cell_type": "markdown",
   "id": "f6fcaaa4",
   "metadata": {},
   "source": [
    "7. ¿Cuál de las siguientes alternativas corresponde a la diferencia entre el menor y el mayor costo de operación anual de una cama crítica en el sistema de salud (considerando todos los servicios de salud)?  "
   ]
  },
  {
   "cell_type": "code",
   "execution_count": 31,
   "id": "b322721b",
   "metadata": {},
   "outputs": [
    {
     "data": {
      "text/plain": [
       "66.1"
      ]
     },
     "execution_count": 31,
     "metadata": {},
     "output_type": "execute_result"
    }
   ],
   "source": [
    "df_hospitales[\"Costo de operación anual de una cama [MM$]\"].max()\n"
   ]
  },
  {
   "cell_type": "code",
   "execution_count": 32,
   "id": "8e93c220",
   "metadata": {},
   "outputs": [
    {
     "data": {
      "text/plain": [
       "36.6"
      ]
     },
     "execution_count": 32,
     "metadata": {},
     "output_type": "execute_result"
    }
   ],
   "source": [
    "df_hospitales[\"Costo de operación anual de una cama [MM$]\"].min()\n"
   ]
  },
  {
   "cell_type": "code",
   "execution_count": 33,
   "id": "d51bdba0",
   "metadata": {},
   "outputs": [
    {
     "data": {
      "text/plain": [
       "29.499999999999993"
      ]
     },
     "execution_count": 33,
     "metadata": {},
     "output_type": "execute_result"
    }
   ],
   "source": [
    "df_hospitales[\"Costo de operación anual de una cama [MM$]\"].max() - df_hospitales[\"Costo de operación anual de una cama [MM$]\"].min()\n"
   ]
  },
  {
   "cell_type": "markdown",
   "id": "84173d70",
   "metadata": {},
   "source": [
    "8. ¿Cuál de las siguientes alternativas indica la cantidad de pacientes que llegaron a la red de salud el día en que llegaron más pacientes? "
   ]
  },
  {
   "cell_type": "code",
   "execution_count": 34,
   "id": "d7ebae6e",
   "metadata": {},
   "outputs": [
    {
     "data": {
      "application/vnd.microsoft.datawrangler.viewer.v0+json": {
       "columns": [
        {
         "name": "Día de llegada",
         "rawType": "int64",
         "type": "integer"
        },
        {
         "name": "0",
         "rawType": "int64",
         "type": "integer"
        }
       ],
       "ref": "6885fc7b-88da-4d3c-a4cf-a518a4f56ffb",
       "rows": [
        [
         "420",
         "183"
        ]
       ],
       "shape": {
        "columns": 1,
        "rows": 1
       }
      },
      "text/plain": [
       "Día de llegada\n",
       "420    183\n",
       "dtype: int64"
      ]
     },
     "execution_count": 34,
     "metadata": {},
     "output_type": "execute_result"
    }
   ],
   "source": [
    "df_informacion_historica.groupby(\"Día de llegada\").size().sort_values(ascending=False).nlargest(1)\n"
   ]
  },
  {
   "cell_type": "markdown",
   "id": "71fc045e",
   "metadata": {},
   "source": [
    "9. ¿Cuál de las siguientes alternativas corresponde al código que permite determinar el promedio del total de camas críticas de cada servicio de salud de la red?  "
   ]
  },
  {
   "cell_type": "code",
   "execution_count": 35,
   "id": "fe79c938",
   "metadata": {},
   "outputs": [
    {
     "data": {
      "application/vnd.microsoft.datawrangler.viewer.v0+json": {
       "columns": [
        {
         "name": "Nombre Servicio de Salud",
         "rawType": "object",
         "type": "string"
        },
        {
         "name": "Total Camas Críticas",
         "rawType": "float64",
         "type": "float"
        }
       ],
       "ref": "ea27c56d-c69d-4095-950c-a8a25d44920d",
       "rows": [
        [
         "Metropolitano Central                             ",
         "35.0"
        ],
        [
         "Metropolitano Norte                               ",
         "44.0"
        ],
        [
         "Metropolitano Occidente                           ",
         "30.0"
        ],
        [
         "Metropolitano Oriente                             ",
         "34.25"
        ],
        [
         "Metropolitano Sur                                 ",
         "34.6"
        ],
        [
         "Metropolitano Sur Oriente                         ",
         "31.75"
        ]
       ],
       "shape": {
        "columns": 1,
        "rows": 6
       }
      },
      "text/html": [
       "<div>\n",
       "<style scoped>\n",
       "    .dataframe tbody tr th:only-of-type {\n",
       "        vertical-align: middle;\n",
       "    }\n",
       "\n",
       "    .dataframe tbody tr th {\n",
       "        vertical-align: top;\n",
       "    }\n",
       "\n",
       "    .dataframe thead th {\n",
       "        text-align: right;\n",
       "    }\n",
       "</style>\n",
       "<table border=\"1\" class=\"dataframe\">\n",
       "  <thead>\n",
       "    <tr style=\"text-align: right;\">\n",
       "      <th></th>\n",
       "      <th>Total Camas Críticas</th>\n",
       "    </tr>\n",
       "    <tr>\n",
       "      <th>Nombre Servicio de Salud</th>\n",
       "      <th></th>\n",
       "    </tr>\n",
       "  </thead>\n",
       "  <tbody>\n",
       "    <tr>\n",
       "      <th>Metropolitano Central</th>\n",
       "      <td>35.00</td>\n",
       "    </tr>\n",
       "    <tr>\n",
       "      <th>Metropolitano Norte</th>\n",
       "      <td>44.00</td>\n",
       "    </tr>\n",
       "    <tr>\n",
       "      <th>Metropolitano Occidente</th>\n",
       "      <td>30.00</td>\n",
       "    </tr>\n",
       "    <tr>\n",
       "      <th>Metropolitano Oriente</th>\n",
       "      <td>34.25</td>\n",
       "    </tr>\n",
       "    <tr>\n",
       "      <th>Metropolitano Sur</th>\n",
       "      <td>34.60</td>\n",
       "    </tr>\n",
       "    <tr>\n",
       "      <th>Metropolitano Sur Oriente</th>\n",
       "      <td>31.75</td>\n",
       "    </tr>\n",
       "  </tbody>\n",
       "</table>\n",
       "</div>"
      ],
      "text/plain": [
       "                                                    Total Camas Críticas\n",
       "Nombre Servicio de Salud                                                \n",
       "Metropolitano Central                                              35.00\n",
       "Metropolitano Norte                                                44.00\n",
       "Metropolitano Occidente                                            30.00\n",
       "Metropolitano Oriente                                              34.25\n",
       "Metropolitano Sur                                                  34.60\n",
       "Metropolitano Sur Oriente                                          31.75"
      ]
     },
     "execution_count": 35,
     "metadata": {},
     "output_type": "execute_result"
    }
   ],
   "source": [
    "df_hospitales[[\"Nombre Servicio de Salud\", \"Total Camas Críticas\"]].groupby(\"Nombre Servicio de Salud\").mean()\n"
   ]
  },
  {
   "cell_type": "markdown",
   "id": "115e1949",
   "metadata": {},
   "source": [
    "10. ¿Cuál de las siguientes alternativas corresponde al código para determinar el costo de instalar las 3 camas nuevas menos costosas en cada servicio de salud?"
   ]
  },
  {
   "cell_type": "code",
   "execution_count": 36,
   "id": "a3aabf53",
   "metadata": {},
   "outputs": [
    {
     "data": {
      "application/vnd.microsoft.datawrangler.viewer.v0+json": {
       "columns": [
        {
         "name": "Nombre Servicio de Salud",
         "rawType": "object",
         "type": "string"
        },
        {
         "name": "Costo de instalar una cama [MM$]",
         "rawType": "int64",
         "type": "integer"
        }
       ],
       "ref": "ab3a2e72-d894-4ffc-acfa-77bdc5c71768",
       "rows": [
        [
         "Metropolitano Central                             ",
         "3768"
        ],
        [
         "Metropolitano Norte                               ",
         "4221"
        ],
        [
         "Metropolitano Occidente                           ",
         "3198"
        ],
        [
         "Metropolitano Oriente                             ",
         "3168"
        ],
        [
         "Metropolitano Sur                                 ",
         "3153"
        ],
        [
         "Metropolitano Sur Oriente                         ",
         "3084"
        ]
       ],
       "shape": {
        "columns": 1,
        "rows": 6
       }
      },
      "text/html": [
       "<div>\n",
       "<style scoped>\n",
       "    .dataframe tbody tr th:only-of-type {\n",
       "        vertical-align: middle;\n",
       "    }\n",
       "\n",
       "    .dataframe tbody tr th {\n",
       "        vertical-align: top;\n",
       "    }\n",
       "\n",
       "    .dataframe thead th {\n",
       "        text-align: right;\n",
       "    }\n",
       "</style>\n",
       "<table border=\"1\" class=\"dataframe\">\n",
       "  <thead>\n",
       "    <tr style=\"text-align: right;\">\n",
       "      <th></th>\n",
       "      <th>Costo de instalar una cama [MM$]</th>\n",
       "    </tr>\n",
       "    <tr>\n",
       "      <th>Nombre Servicio de Salud</th>\n",
       "      <th></th>\n",
       "    </tr>\n",
       "  </thead>\n",
       "  <tbody>\n",
       "    <tr>\n",
       "      <th>Metropolitano Central</th>\n",
       "      <td>3768</td>\n",
       "    </tr>\n",
       "    <tr>\n",
       "      <th>Metropolitano Norte</th>\n",
       "      <td>4221</td>\n",
       "    </tr>\n",
       "    <tr>\n",
       "      <th>Metropolitano Occidente</th>\n",
       "      <td>3198</td>\n",
       "    </tr>\n",
       "    <tr>\n",
       "      <th>Metropolitano Oriente</th>\n",
       "      <td>3168</td>\n",
       "    </tr>\n",
       "    <tr>\n",
       "      <th>Metropolitano Sur</th>\n",
       "      <td>3153</td>\n",
       "    </tr>\n",
       "    <tr>\n",
       "      <th>Metropolitano Sur Oriente</th>\n",
       "      <td>3084</td>\n",
       "    </tr>\n",
       "  </tbody>\n",
       "</table>\n",
       "</div>"
      ],
      "text/plain": [
       "                                                    Costo de instalar una cama [MM$]\n",
       "Nombre Servicio de Salud                                                            \n",
       "Metropolitano Central                                                           3768\n",
       "Metropolitano Norte                                                             4221\n",
       "Metropolitano Occidente                                                         3198\n",
       "Metropolitano Oriente                                                           3168\n",
       "Metropolitano Sur                                                               3153\n",
       "Metropolitano Sur Oriente                                                       3084"
      ]
     },
     "execution_count": 36,
     "metadata": {},
     "output_type": "execute_result"
    }
   ],
   "source": [
    "df_hospitales[[\"Nombre Servicio de Salud\", \"Costo de instalar una cama [MM$]\"]].groupby(\"Nombre Servicio de Salud\").min() * 3\n"
   ]
  },
  {
   "cell_type": "code",
   "execution_count": 37,
   "id": "e07c03af",
   "metadata": {},
   "outputs": [
    {
     "data": {
      "application/vnd.microsoft.datawrangler.viewer.v0+json": {
       "columns": [
        {
         "name": "Nombre Servicio de Salud",
         "rawType": "object",
         "type": "string"
        },
        {
         "name": "Costo de instalar una cama [MM$]",
         "rawType": "int64",
         "type": "integer"
        }
       ],
       "ref": "ebc532a9-2bff-4114-82dc-32c013d7a2d5",
       "rows": [
        [
         "Metropolitano Central                             ",
         "1256"
        ],
        [
         "Metropolitano Norte                               ",
         "1407"
        ],
        [
         "Metropolitano Occidente                           ",
         "1066"
        ],
        [
         "Metropolitano Oriente                             ",
         "1056"
        ],
        [
         "Metropolitano Sur                                 ",
         "1051"
        ],
        [
         "Metropolitano Sur Oriente                         ",
         "1028"
        ]
       ],
       "shape": {
        "columns": 1,
        "rows": 6
       }
      },
      "text/html": [
       "<div>\n",
       "<style scoped>\n",
       "    .dataframe tbody tr th:only-of-type {\n",
       "        vertical-align: middle;\n",
       "    }\n",
       "\n",
       "    .dataframe tbody tr th {\n",
       "        vertical-align: top;\n",
       "    }\n",
       "\n",
       "    .dataframe thead th {\n",
       "        text-align: right;\n",
       "    }\n",
       "</style>\n",
       "<table border=\"1\" class=\"dataframe\">\n",
       "  <thead>\n",
       "    <tr style=\"text-align: right;\">\n",
       "      <th></th>\n",
       "      <th>Costo de instalar una cama [MM$]</th>\n",
       "    </tr>\n",
       "    <tr>\n",
       "      <th>Nombre Servicio de Salud</th>\n",
       "      <th></th>\n",
       "    </tr>\n",
       "  </thead>\n",
       "  <tbody>\n",
       "    <tr>\n",
       "      <th>Metropolitano Central</th>\n",
       "      <td>1256</td>\n",
       "    </tr>\n",
       "    <tr>\n",
       "      <th>Metropolitano Norte</th>\n",
       "      <td>1407</td>\n",
       "    </tr>\n",
       "    <tr>\n",
       "      <th>Metropolitano Occidente</th>\n",
       "      <td>1066</td>\n",
       "    </tr>\n",
       "    <tr>\n",
       "      <th>Metropolitano Oriente</th>\n",
       "      <td>1056</td>\n",
       "    </tr>\n",
       "    <tr>\n",
       "      <th>Metropolitano Sur</th>\n",
       "      <td>1051</td>\n",
       "    </tr>\n",
       "    <tr>\n",
       "      <th>Metropolitano Sur Oriente</th>\n",
       "      <td>1028</td>\n",
       "    </tr>\n",
       "  </tbody>\n",
       "</table>\n",
       "</div>"
      ],
      "text/plain": [
       "                                                    Costo de instalar una cama [MM$]\n",
       "Nombre Servicio de Salud                                                            \n",
       "Metropolitano Central                                                           1256\n",
       "Metropolitano Norte                                                             1407\n",
       "Metropolitano Occidente                                                         1066\n",
       "Metropolitano Oriente                                                           1056\n",
       "Metropolitano Sur                                                               1051\n",
       "Metropolitano Sur Oriente                                                       1028"
      ]
     },
     "execution_count": 37,
     "metadata": {},
     "output_type": "execute_result"
    }
   ],
   "source": [
    "costo_camas = df_hospitales[[\n",
    "    \"Nombre Servicio de Salud\", \"Costo de instalar una cama [MM$]\"\n",
    "]].groupby(\"Nombre Servicio de Salud\").min()\n",
    "costo_camas"
   ]
  },
  {
   "cell_type": "code",
   "execution_count": 38,
   "id": "ecee4a70",
   "metadata": {},
   "outputs": [],
   "source": [
    "costo_camas[\"costo 3 camas nuevas\"] = costo_camas[\"Costo de instalar una cama [MM$]\"] * 3\n"
   ]
  },
  {
   "cell_type": "code",
   "execution_count": 39,
   "id": "bae10055",
   "metadata": {},
   "outputs": [
    {
     "data": {
      "application/vnd.microsoft.datawrangler.viewer.v0+json": {
       "columns": [
        {
         "name": "Nombre Servicio de Salud",
         "rawType": "object",
         "type": "string"
        },
        {
         "name": "Costo de instalar una cama [MM$]",
         "rawType": "int64",
         "type": "integer"
        },
        {
         "name": "costo 3 camas nuevas",
         "rawType": "int64",
         "type": "integer"
        }
       ],
       "ref": "6f0accff-3336-46b3-a13d-5352fa07f4b7",
       "rows": [
        [
         "Metropolitano Central                             ",
         "1256",
         "3768"
        ],
        [
         "Metropolitano Norte                               ",
         "1407",
         "4221"
        ],
        [
         "Metropolitano Occidente                           ",
         "1066",
         "3198"
        ],
        [
         "Metropolitano Oriente                             ",
         "1056",
         "3168"
        ],
        [
         "Metropolitano Sur                                 ",
         "1051",
         "3153"
        ],
        [
         "Metropolitano Sur Oriente                         ",
         "1028",
         "3084"
        ]
       ],
       "shape": {
        "columns": 2,
        "rows": 6
       }
      },
      "text/html": [
       "<div>\n",
       "<style scoped>\n",
       "    .dataframe tbody tr th:only-of-type {\n",
       "        vertical-align: middle;\n",
       "    }\n",
       "\n",
       "    .dataframe tbody tr th {\n",
       "        vertical-align: top;\n",
       "    }\n",
       "\n",
       "    .dataframe thead th {\n",
       "        text-align: right;\n",
       "    }\n",
       "</style>\n",
       "<table border=\"1\" class=\"dataframe\">\n",
       "  <thead>\n",
       "    <tr style=\"text-align: right;\">\n",
       "      <th></th>\n",
       "      <th>Costo de instalar una cama [MM$]</th>\n",
       "      <th>costo 3 camas nuevas</th>\n",
       "    </tr>\n",
       "    <tr>\n",
       "      <th>Nombre Servicio de Salud</th>\n",
       "      <th></th>\n",
       "      <th></th>\n",
       "    </tr>\n",
       "  </thead>\n",
       "  <tbody>\n",
       "    <tr>\n",
       "      <th>Metropolitano Central</th>\n",
       "      <td>1256</td>\n",
       "      <td>3768</td>\n",
       "    </tr>\n",
       "    <tr>\n",
       "      <th>Metropolitano Norte</th>\n",
       "      <td>1407</td>\n",
       "      <td>4221</td>\n",
       "    </tr>\n",
       "    <tr>\n",
       "      <th>Metropolitano Occidente</th>\n",
       "      <td>1066</td>\n",
       "      <td>3198</td>\n",
       "    </tr>\n",
       "    <tr>\n",
       "      <th>Metropolitano Oriente</th>\n",
       "      <td>1056</td>\n",
       "      <td>3168</td>\n",
       "    </tr>\n",
       "    <tr>\n",
       "      <th>Metropolitano Sur</th>\n",
       "      <td>1051</td>\n",
       "      <td>3153</td>\n",
       "    </tr>\n",
       "    <tr>\n",
       "      <th>Metropolitano Sur Oriente</th>\n",
       "      <td>1028</td>\n",
       "      <td>3084</td>\n",
       "    </tr>\n",
       "  </tbody>\n",
       "</table>\n",
       "</div>"
      ],
      "text/plain": [
       "                                                    Costo de instalar una cama [MM$]  \\\n",
       "Nombre Servicio de Salud                                                               \n",
       "Metropolitano Central                                                           1256   \n",
       "Metropolitano Norte                                                             1407   \n",
       "Metropolitano Occidente                                                         1066   \n",
       "Metropolitano Oriente                                                           1056   \n",
       "Metropolitano Sur                                                               1051   \n",
       "Metropolitano Sur Oriente                                                       1028   \n",
       "\n",
       "                                                    costo 3 camas nuevas  \n",
       "Nombre Servicio de Salud                                                  \n",
       "Metropolitano Central                                               3768  \n",
       "Metropolitano Norte                                                 4221  \n",
       "Metropolitano Occidente                                             3198  \n",
       "Metropolitano Oriente                                               3168  \n",
       "Metropolitano Sur                                                   3153  \n",
       "Metropolitano Sur Oriente                                           3084  "
      ]
     },
     "execution_count": 39,
     "metadata": {},
     "output_type": "execute_result"
    }
   ],
   "source": [
    "costo_camas\n"
   ]
  },
  {
   "cell_type": "code",
   "execution_count": null,
   "id": "bbbb0e98",
   "metadata": {},
   "outputs": [],
   "source": []
  }
 ],
 "metadata": {
  "kernelspec": {
   "display_name": "mcd-da-py312",
   "language": "python",
   "name": "python3"
  },
  "language_info": {
   "codemirror_mode": {
    "name": "ipython",
    "version": 3
   },
   "file_extension": ".py",
   "mimetype": "text/x-python",
   "name": "python",
   "nbconvert_exporter": "python",
   "pygments_lexer": "ipython3",
   "version": "3.12.9"
  }
 },
 "nbformat": 4,
 "nbformat_minor": 5
}
